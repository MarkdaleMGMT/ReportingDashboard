{
 "cells": [
  {
   "cell_type": "code",
   "execution_count": 2,
   "id": "e0e03a68",
   "metadata": {},
   "outputs": [
    {
     "name": "stdout",
     "output_type": "stream",
     "text": [
      "Collecting pyxirr\n",
      "  Downloading pyxirr-0.9.2-cp39-cp39-macosx_10_9_x86_64.macosx_11_0_arm64.macosx_10_9_universal2.whl (793 kB)\n",
      "\u001b[K     |████████████████████████████████| 793 kB 5.1 MB/s eta 0:00:01\n",
      "\u001b[?25hInstalling collected packages: pyxirr\n",
      "Successfully installed pyxirr-0.9.2\n",
      "Date               datetime64[ns]\n",
      "Value                     float64\n",
      "Actual Cashflow           float64\n",
      "dtype: object\n"
     ]
    }
   ],
   "source": [
    "!pip install pyxirr\n",
    "import numpy as np\n",
    "import pandas as pd\n",
    "\n",
    "# Load cashflows from an Excel file (adjust the file path as needed)\n",
    "excel_file1 = '/Users/yumengwang/Desktop/castock.xlsx'  # Replace with your file path\n",
    "df1 = pd.read_excel(excel_file1)\n",
    "\n",
    "print(df1.dtypes)"
   ]
  },
  {
   "cell_type": "code",
   "execution_count": 3,
   "id": "dc543b89",
   "metadata": {},
   "outputs": [
    {
     "name": "stdout",
     "output_type": "stream",
     "text": [
      "         Date        Value  Actual Cashflow\n",
      "0  2018-01-31 -10849784.74         11692.38\n",
      "1  2018-02-28  10287646.81         24322.38\n",
      "2  2018-03-30  10275003.81         46140.26\n",
      "3  2018-04-30 -10536100.39         25996.38\n",
      "4  2018-05-30  10851665.12         25612.38\n",
      "5  2018-06-30  11310824.25         46415.97\n",
      "6  2018-07-30 -11438205.77         26904.79\n",
      "7  2018-08-30  11276744.62         25805.29\n",
      "8  2018-09-30  11021497.47         46381.29\n",
      "9  2018-10-30 -10490587.08         26904.79\n",
      "10 2018-11-30  10705619.94         26405.29\n",
      "11 2018-12-30   9938734.37        149992.55\n",
      "12 2019-01-30 -10802928.93         12864.79\n",
      "13 2019-02-28  11083265.91         26405.29\n",
      "14 2019-03-30  11123149.13         49977.84\n",
      "15 2019-04-30 -11489080.62         29532.79\n",
      "16 2019-05-30  11177309.19         27845.29\n",
      "17 2019-06-30  11146899.63         50222.23\n",
      "18 2019-07-30 -10911773.09         30441.20\n",
      "19 2019-08-30  10752471.51         28038.20\n",
      "20 2019-09-30  11249173.25         66533.59\n",
      "21 2019-10-30 -11089526.88         14061.20\n",
      "22 2019-11-30  11459855.67         28488.20\n",
      "23 2019-12-30  11498725.48         66489.47\n",
      "24 2020-01-30 -11108171.58        614061.20\n",
      "25 2020-02-28  10033588.14        362931.11\n",
      "26 2020-03-30   7737016.08         89107.80\n",
      "27 2020-04-30  -8137338.12         14554.11\n",
      "28 2020-05-30   8170324.50         29731.11\n",
      "29 2020-06-30   8103584.50         63104.89\n",
      "30 2020-07-30  -8049085.47         14554.11\n",
      "31 2020-08-30   8321132.22         29731.11\n",
      "32 2020-09-30   7740937.98         62877.20\n",
      "33 2020-10-30  -7550377.07         14554.11\n",
      "34 2020-11-30   8619794.48         29731.11\n",
      "35 2020-12-30   8678665.98         62665.03\n",
      "36 2021-01-30  -8838256.06         14554.11\n",
      "37 2021-02-28   9385709.50         13531.11\n",
      "38 2021-03-30   9893742.56         80237.62\n",
      "39 2021-04-30 -10250128.00         14554.11\n",
      "40 2021-05-30  10530891.17         29731.11\n",
      "41 2021-06-30  10784034.47         63872.16\n",
      "42 2021-07-30 -10594732.08         15746.61\n",
      "43 2021-08-30  10780611.65         29731.11\n",
      "44 2021-09-30  10976472.69         64172.74\n",
      "45 2021-10-30 -11539348.57         15746.61\n",
      "46 2021-11-30  10241959.74         29731.11\n",
      "47 2021-12-30  10570692.17         73831.50\n",
      "48 2022-01-30 -11091506.68          9931.11\n",
      "49 2022-02-28  11055461.62         32731.11\n",
      "50 2022-03-30  11375020.05         75621.95\n",
      "51 2022-04-30 -11194468.07          9931.11\n",
      "52 2022-05-30  11513212.06         32731.11\n",
      "53 2022-06-30  10840024.32         38356.00\n",
      "54 2022-07-30 -11130014.72             0.00\n",
      "55 2022-08-30  10891318.36             0.00\n",
      "56 2022-09-30  10575579.43             0.00\n",
      "57 2022-10-30 -11184750.50             0.00\n",
      "58 2022-11-30  11675685.32             0.00\n",
      "59 2022-12-30  11216853.22         43246.99\n"
     ]
    },
    {
     "name": "stderr",
     "output_type": "stream",
     "text": [
      "/var/folders/9t/lzbyh7f96bgc9_3d74mmczcm0000gn/T/ipykernel_16601/1547505935.py:4: SettingWithCopyWarning: \n",
      "A value is trying to be set on a copy of a slice from a DataFrame\n",
      "\n",
      "See the caveats in the documentation: https://pandas.pydata.org/pandas-docs/stable/user_guide/indexing.html#returning-a-view-versus-a-copy\n",
      "  df1['Value'][i] = -1 * temp[i]\n"
     ]
    }
   ],
   "source": [
    "temp = df1['Value']\n",
    "i = 0\n",
    "while i < len(temp):\n",
    "    df1['Value'][i] = -1 * temp[i]\n",
    "    i += 3\n",
    "print(df1)"
   ]
  },
  {
   "cell_type": "code",
   "execution_count": 18,
   "id": "04bc1eb8",
   "metadata": {},
   "outputs": [
    {
     "name": "stdout",
     "output_type": "stream",
     "text": [
      "[82155.02, 98024.73000000001, 99091.37, 203302.63, 89247.92, 107600.31, 125012.98999999999, 109038.87, 1066100.1099999999, 107390.11, 107162.42, 106950.25, 108322.84, 108157.37999999999, 109650.45999999999, 119309.22, 118284.17, 81018.22, 0.0, 43246.98999999999]\n"
     ]
    }
   ],
   "source": [
    "qc = []\n",
    "i = 0\n",
    "while i < len(df1['Actual Cashflow']):\n",
    "    qc.append(np.sum(df1['Actual Cashflow'][i:i+3]))\n",
    "    i += 3\n",
    "print(qc)"
   ]
  },
  {
   "cell_type": "code",
   "execution_count": 8,
   "id": "d79fb66f",
   "metadata": {},
   "outputs": [
    {
     "data": {
      "text/plain": [
       "Date               datetime64[ns]\n",
       "Value                     float64\n",
       "Actual Cashflow           float64\n",
       "dtype: object"
      ]
     },
     "execution_count": 8,
     "metadata": {},
     "output_type": "execute_result"
    }
   ],
   "source": [
    "df1['Date'] = pd.to_datetime(df1['Date'])\n",
    "df1.dtypes"
   ]
  },
  {
   "cell_type": "code",
   "execution_count": 18,
   "id": "0e6e2419",
   "metadata": {
    "scrolled": true
   },
   "outputs": [
    {
     "name": "stdout",
     "output_type": "stream",
     "text": [
      "20\n",
      "20\n"
     ]
    }
   ],
   "source": [
    "from pyxirr import xirr\n",
    "j = 0\n",
    "xirr_ = []\n",
    "dates_ = pd.to_datetime(df1['Date'])\n",
    "dates2 = []\n",
    "while j < len(df1['Actual Cashflow']):\n",
    "    temp = [df1['Value'][j], df1['Actual Cashflow'][j], df1['Actual Cashflow'][j+1], df1['Actual Cashflow'][j+2], df1['Value'][j+2]]\n",
    "    dates = [dates_[j],dates_[j],dates_[j+1],dates_[j+2],dates_[j+2]]\n",
    "#     print(dates)\n",
    "    dates2.append(df1[\"Date\"][j+2])\n",
    "#     print(temp)\n",
    "    xirr_.append(xirr(dates,temp))\n",
    "    j += 3\n",
    "print(len(xirr_))\n",
    "print(len(dates2))"
   ]
  },
  {
   "cell_type": "code",
   "execution_count": 19,
   "id": "a7ad8edd",
   "metadata": {},
   "outputs": [],
   "source": [
    "data = {'Date': dates2, 'Column2': xirr_}\n",
    "df = pd.DataFrame(data)\n",
    "\n",
    "# Export the DataFrame to an Excel file\n",
    "excel_file = 'canadian_stock_irr_quarter.xlsx'  # Specify the filename\n",
    "df.to_excel(excel_file, index=False) "
   ]
  }
 ],
 "metadata": {
  "kernelspec": {
   "display_name": "Python 3 (ipykernel)",
   "language": "python",
   "name": "python3"
  },
  "language_info": {
   "codemirror_mode": {
    "name": "ipython",
    "version": 3
   },
   "file_extension": ".py",
   "mimetype": "text/x-python",
   "name": "python",
   "nbconvert_exporter": "python",
   "pygments_lexer": "ipython3",
   "version": "3.9.7"
  }
 },
 "nbformat": 4,
 "nbformat_minor": 5
}
